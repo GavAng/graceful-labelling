{
 "cells": [
  {
   "cell_type": "markdown",
   "id": "a8c444a5",
   "metadata": {},
   "source": [
    "# Graceful Labellings of the Path Graph $P_n$\n"
   ]
  },
  {
   "cell_type": "code",
   "execution_count": 2,
   "id": "c911da8e",
   "metadata": {},
   "outputs": [],
   "source": [
    "from itertools import pairwise, permutations\n",
    "from typing import Generator\n",
    "import ipytest\n",
    "import pytest"
   ]
  },
  {
   "cell_type": "markdown",
   "id": "842c8639",
   "metadata": {},
   "source": [
    "Brute force approach considers $n!$ labellings.\n"
   ]
  },
  {
   "cell_type": "code",
   "execution_count": 3,
   "id": "a1572bd9",
   "metadata": {},
   "outputs": [],
   "source": [
    "def find_graceful_directed_paths(\n",
    "    n_vertices: int,\n",
    ") -> Generator[tuple[int, ...], None, None]:\n",
    "    n_edges = n_vertices - 1\n",
    "    for path in permutations(range(n_edges + 1), n_vertices):\n",
    "        labelling = {(y - x) % (n_edges + 1) for x, y in pairwise(path)}\n",
    "        if labelling == set(range(1, n_edges + 1)):\n",
    "            yield path"
   ]
  },
  {
   "cell_type": "code",
   "execution_count": 4,
   "id": "2e581700",
   "metadata": {},
   "outputs": [],
   "source": [
    "find_graceful_directed_paths_1 = find_graceful_directed_paths"
   ]
  },
  {
   "cell_type": "markdown",
   "id": "993ff0fe",
   "metadata": {},
   "source": [
    "Perform early exit if labelling contains repeated difference, e.g. `(0, 1, 2,...)` can be rejected without considering further labels.\n"
   ]
  },
  {
   "cell_type": "code",
   "execution_count": 6,
   "id": "0fd44f84",
   "metadata": {},
   "outputs": [],
   "source": [
    "def find_graceful_directed_paths(\n",
    "    n_vertices: int,\n",
    "    path_labels: list[int] = [],\n",
    ") -> Generator[tuple[int, ...], None, None]:\n",
    "    if len(path_labels) == n_vertices:\n",
    "        yield tuple(path_labels)\n",
    "    n_edges = n_vertices - 1\n",
    "    arc_labels = {(y - x) % (n_edges + 1) for x, y in pairwise(path_labels)}\n",
    "    other_labels = [label for label in range(n_vertices) if label not in path_labels]\n",
    "    for label in other_labels:\n",
    "        if (\n",
    "            not arc_labels\n",
    "            or (label - path_labels[-1]) % (n_edges + 1) not in arc_labels\n",
    "        ):\n",
    "            yield from find_graceful_directed_paths(n_vertices, path_labels + [label])\n"
   ]
  },
  {
   "cell_type": "code",
   "execution_count": 7,
   "id": "ebed2fc5",
   "metadata": {},
   "outputs": [],
   "source": [
    "find_graceful_directed_paths_2 = find_graceful_directed_paths"
   ]
  },
  {
   "cell_type": "markdown",
   "id": "ca63ecf7",
   "metadata": {},
   "source": [
    "Finally realise that a graceful labelling of $P_n^*$ remains graceful under reverse ordering. Find a half of all graceful labellings that are distinct under reversal, then reverse them.\n"
   ]
  },
  {
   "cell_type": "code",
   "execution_count": 8,
   "id": "3f323282",
   "metadata": {},
   "outputs": [],
   "source": [
    "def find_graceful_directed_paths(\n",
    "    n_vertices: int,\n",
    ") -> Generator[tuple[int, ...], None, None]:\n",
    "    n_edges = n_vertices - 1\n",
    "\n",
    "    def recurse(path_labels: list[int] = []) -> Generator[tuple[int, ...], None, None]:\n",
    "        if len(path_labels) == n_vertices:\n",
    "            yield tuple(path_labels)\n",
    "            yield tuple(reversed(path_labels))\n",
    "        arc_labels = {(y - x) % (n_edges + 1) for x, y in pairwise(path_labels)}\n",
    "        other_labels = [\n",
    "            label for label in range(n_vertices) if label not in path_labels\n",
    "        ]\n",
    "        for label in other_labels:\n",
    "            if (label - path_labels[-1]) % (n_edges + 1) not in arc_labels:\n",
    "                yield from recurse(path_labels + [label])\n",
    "\n",
    "    for start in range((n_vertices + 1) // 2):\n",
    "        yield from recurse([start])\n"
   ]
  },
  {
   "cell_type": "code",
   "execution_count": 9,
   "id": "9818cf25",
   "metadata": {},
   "outputs": [],
   "source": [
    "find_graceful_directed_paths_3 = find_graceful_directed_paths"
   ]
  },
  {
   "cell_type": "code",
   "execution_count": null,
   "id": "3a2f314f",
   "metadata": {},
   "outputs": [
    {
     "name": "stdout",
     "output_type": "stream",
     "text": [
      "\u001b[32m.\u001b[0m\u001b[32m.\u001b[0m\u001b[32m.\u001b[0m\u001b[32m.\u001b[0m\u001b[32m.\u001b[0m\u001b[32m.\u001b[0m\u001b[32m.\u001b[0m\u001b[32m.\u001b[0m\u001b[32m.\u001b[0m\u001b[32m.\u001b[0m\u001b[32m                                                                                   [100%]\u001b[0m\n",
      "\u001b[32m\u001b[32m\u001b[1m10 passed\u001b[0m\u001b[32m in 8.89s\u001b[0m\u001b[0m\n"
     ]
    },
    {
     "data": {
      "text/plain": [
       "<ExitCode.OK: 0>"
      ]
     },
     "execution_count": 20,
     "metadata": {},
     "output_type": "execute_result"
    }
   ],
   "source": [
    "# %load_ext ipytest\n",
    "\n",
    "ipytest.autoconfig()\n",
    "\n",
    "\n",
    "@pytest.mark.parametrize(\"path_size\", range(1, 11))\n",
    "def test_graceful_path_methods(path_size: int) -> None:\n",
    "    assert set(find_graceful_directed_paths_1(path_size)) == set(\n",
    "        find_graceful_directed_paths_3(path_size)\n",
    "    )\n",
    "\n",
    "\n",
    "ipytest.run()"
   ]
  },
  {
   "cell_type": "code",
   "execution_count": 21,
   "id": "961d85e8",
   "metadata": {},
   "outputs": [
    {
     "name": "stdout",
     "output_type": "stream",
     "text": [
      "7.49 s ± 353 ms per loop (mean ± std. dev. of 7 runs, 1 loop each)\n"
     ]
    }
   ],
   "source": [
    "%%timeit\n",
    "for _ in find_graceful_directed_paths_1(10):\n",
    "    ..."
   ]
  },
  {
   "cell_type": "code",
   "execution_count": 26,
   "id": "c3011243",
   "metadata": {},
   "outputs": [
    {
     "name": "stdout",
     "output_type": "stream",
     "text": [
      "692 ms ± 62.3 ms per loop (mean ± std. dev. of 7 runs, 1 loop each)\n"
     ]
    }
   ],
   "source": [
    "%%timeit\n",
    "for _ in find_graceful_directed_paths_2(10):\n",
    "    ..."
   ]
  },
  {
   "cell_type": "code",
   "execution_count": null,
   "id": "2647b194",
   "metadata": {},
   "outputs": [
    {
     "name": "stdout",
     "output_type": "stream",
     "text": [
      "328 ms ± 48.5 ms per loop (mean ± std. dev. of 7 runs, 1 loop each)\n"
     ]
    }
   ],
   "source": [
    "%%timeit\n",
    "for _ in find_graceful_directed_paths_3(10):\n",
    "    ..."
   ]
  },
  {
   "cell_type": "code",
   "execution_count": 1,
   "id": "f3e300ed",
   "metadata": {},
   "outputs": [
    {
     "data": {
      "image/png": "[encoded data removed]",
      "text/plain": [
       "<Figure size 400x100 with 1 Axes>"
      ]
     },
     "metadata": {},
     "output_type": "display_data"
    },
    {
     "data": {
      "image/png": "[encoded data removed]",
      "text/plain": [
       "<Figure size 900x100 with 1 Axes>"
      ]
     },
     "metadata": {},
     "output_type": "display_data"
    },
    {
     "data": {
      "image/png": "[encoded data removed]",
      "text/plain": [
       "<Figure size 1400x100 with 1 Axes>"
      ]
     },
     "metadata": {},
     "output_type": "display_data"
    }
   ],
   "source": [
    "from graphs import PathGraph\n",
    "from graceful_labellings.alpha_valuations import path_1\n",
    "\n",
    "PathGraph.from_vertices_standard(path_1(5)).draw()\n",
    "PathGraph.from_vertices_standard(path_1(10)).draw()\n",
    "PathGraph.from_vertices_standard(path_1(15)).draw()"
   ]
  }
 ],
 "metadata": {
  "kernelspec": {
   "display_name": ".venv",
   "language": "python",
   "name": "python3"
  },
  "language_info": {
   "codemirror_mode": {
    "name": "ipython",
    "version": 3
   },
   "file_extension": ".py",
   "mimetype": "text/x-python",
   "name": "python",
   "nbconvert_exporter": "python",
   "pygments_lexer": "ipython3",
   "version": "3.13.3"
  }
 },
 "nbformat": 4,
 "nbformat_minor": 5
}

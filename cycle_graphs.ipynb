{
 "cells": [
  {
   "cell_type": "code",
   "execution_count": 1,
   "id": "b854c39a",
   "metadata": {},
   "outputs": [],
   "source": [
    "from itertools import pairwise, permutations\n",
    "from typing import Generator"
   ]
  },
  {
   "cell_type": "code",
   "execution_count": null,
   "id": "dea15e10",
   "metadata": {},
   "outputs": [],
   "source": [
    "def find_graceful_directed_cycles(\n",
    "    n_vertices: int,\n",
    ") -> Generator[tuple[int, ...], None, None]:\n",
    "    n_edges = n_vertices\n",
    "    for start in (0, 1):\n",
    "        for perm in permutations(range(start + 1, n_edges + 1), n_vertices - 1):\n",
    "            cycle = [start] + list(perm) + [start]\n",
    "            labelling = {(y - x) % (n_edges + 1) for x, y in pairwise(cycle)}\n",
    "            if labelling == set(range(1, n_edges + 1)):\n",
    "                yield tuple(cycle[:-1])"
   ]
  }
 ],
 "metadata": {
  "kernelspec": {
   "display_name": ".venv",
   "language": "python",
   "name": "python3"
  },
  "language_info": {
   "codemirror_mode": {
    "name": "ipython",
    "version": 3
   },
   "file_extension": ".py",
   "mimetype": "text/x-python",
   "name": "python",
   "nbconvert_exporter": "python",
   "pygments_lexer": "ipython3",
   "version": "3.13.3"
  }
 },
 "nbformat": 4,
 "nbformat_minor": 5
}
